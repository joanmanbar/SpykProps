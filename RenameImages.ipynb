{
 "cells": [
  {
   "cell_type": "markdown",
   "id": "a7216edb-b60f-4528-85d0-249c0690a04a",
   "metadata": {},
   "source": [
    "# Renaming Images"
   ]
  },
  {
   "cell_type": "markdown",
   "id": "135c35e9-0e65-41a4-98f0-1d3abfacb8a8",
   "metadata": {},
   "source": [
    "## Dependencies"
   ]
  },
  {
   "cell_type": "code",
   "execution_count": 1,
   "id": "e2cc40ac-50c4-42b8-a943-f91bbb73fd1e",
   "metadata": {},
   "outputs": [],
   "source": [
    "import os\n",
    "from glob import glob\n",
    "\n",
    "import pandas as pd\n",
    "\n",
    "import matplotlib.pyplot as plt\n",
    "import cv2\n",
    "from pyzbar import pyzbar\n",
    "\n",
    "from IPython.core.interactiveshell import InteractiveShell\n",
    "InteractiveShell.ast_node_interactivity = \"all\""
   ]
  },
  {
   "cell_type": "markdown",
   "id": "1f345bf1-c536-4030-8372-e870c7d516de",
   "metadata": {},
   "source": [
    "# PGR Rouseau 2021"
   ]
  },
  {
   "cell_type": "markdown",
   "id": "48d694d5-a59c-4d3b-a7e5-b17ee9ac4985",
   "metadata": {},
   "source": [
    "## Images to rename"
   ]
  },
  {
   "cell_type": "code",
   "execution_count": 108,
   "id": "e6f06b1b-d58f-4d1b-8ed8-30ee96527442",
   "metadata": {},
   "outputs": [],
   "source": [
    "Images_Path = '.\\Images\\PGR_Roseau2021'\n",
    "# Images_Path = '.\\Images\\Test'\n",
    "Images = [y for x in os.walk(Images_Path) for y in glob(os.path.join(x[0], '*.tif'))]"
   ]
  },
  {
   "cell_type": "code",
   "execution_count": 110,
   "id": "64338fcc-0d94-4116-bae6-ffc64edff290",
   "metadata": {},
   "outputs": [
    {
     "data": {
      "text/plain": [
       "40"
      ]
     },
     "execution_count": 110,
     "metadata": {},
     "output_type": "execute_result"
    }
   ],
   "source": [
    "len(Images)\n",
    "# Images"
   ]
  },
  {
   "cell_type": "markdown",
   "id": "55677822-2b0b-4fc6-9bc0-f3826e4f7fb1",
   "metadata": {},
   "source": [
    "## Load key file with old and names"
   ]
  },
  {
   "cell_type": "code",
   "execution_count": 111,
   "id": "8a7aa140-b068-41d1-9e0e-c1f00ef9cb6f",
   "metadata": {},
   "outputs": [],
   "source": [
    "KeyFile = './Files/Key_PGR_Roseau2021.csv'\n",
    "KeyFile = pd.read_csv(KeyFile)\n",
    "# KeyFile"
   ]
  },
  {
   "cell_type": "markdown",
   "id": "2e68d243-4a4d-4075-a11a-b0c526a9fa11",
   "metadata": {},
   "source": [
    "## Rename"
   ]
  },
  {
   "cell_type": "code",
   "execution_count": 112,
   "id": "cd6db698-ca9f-4cb8-8fa1-f514859a0ca9",
   "metadata": {},
   "outputs": [],
   "source": [
    "for i in Images:\n",
    "    \n",
    "    # Image page\n",
    "    i_path = i.split('\\\\')[:-1]\n",
    "    i_path = '\\\\'.join(i_path)\n",
    "    \n",
    "    # Old name\n",
    "    old_name = i.split('\\\\')[-1]\n",
    "    old_name\n",
    "    \n",
    "    # New name\n",
    "    new_name = KeyFile.loc[KeyFile.Scan_Name==old_name]['Code']\n",
    "    new_name = new_name.values[0]\n",
    "    new_name = i_path + '\\\\' + new_name + '.tif'\n",
    "    \n",
    "    # Rename\n",
    "    os.rename(i, new_name)\n",
    "    \n",
    "    "
   ]
  },
  {
   "cell_type": "code",
   "execution_count": null,
   "id": "37ca7422-fc6e-4e45-a734-8db489a2f95d",
   "metadata": {},
   "outputs": [],
   "source": []
  },
  {
   "cell_type": "markdown",
   "id": "b0ce4aa3-74ea-4ec6-92a0-29c120aa399f",
   "metadata": {},
   "source": [
    "# TROE 2021"
   ]
  },
  {
   "cell_type": "markdown",
   "id": "7465ecb6-4b28-4aab-855c-6366e7b7c9b8",
   "metadata": {},
   "source": [
    "## Images to rename"
   ]
  },
  {
   "cell_type": "code",
   "execution_count": 12,
   "id": "ba47ccef-900f-4eda-a775-c04a4c841d74",
   "metadata": {},
   "outputs": [],
   "source": [
    "Images_Path = '.\\Images\\TROE2021'\n",
    "# Images_Path = '.\\Images\\Test'\n",
    "Images = [y for x in os.walk(Images_Path) for y in glob(os.path.join(x[0], '*.tif'))]"
   ]
  },
  {
   "cell_type": "code",
   "execution_count": 13,
   "id": "9824d7b9-1413-4e9e-afaa-8a6f37c24fe3",
   "metadata": {},
   "outputs": [
    {
     "data": {
      "text/plain": [
       "530"
      ]
     },
     "execution_count": 13,
     "metadata": {},
     "output_type": "execute_result"
    }
   ],
   "source": [
    "len(Images)\n",
    "# Images"
   ]
  },
  {
   "cell_type": "markdown",
   "id": "edad16ef-dfde-4f33-913a-51e012b9cc84",
   "metadata": {},
   "source": [
    "## Load key file with old and names"
   ]
  },
  {
   "cell_type": "code",
   "execution_count": 14,
   "id": "496326e7-571c-4c5b-afd0-7444462fe3e6",
   "metadata": {},
   "outputs": [
    {
     "data": {
      "text/html": [
       "<div>\n",
       "<style scoped>\n",
       "    .dataframe tbody tr th:only-of-type {\n",
       "        vertical-align: middle;\n",
       "    }\n",
       "\n",
       "    .dataframe tbody tr th {\n",
       "        vertical-align: top;\n",
       "    }\n",
       "\n",
       "    .dataframe thead th {\n",
       "        text-align: right;\n",
       "    }\n",
       "</style>\n",
       "<table border=\"1\" class=\"dataframe\">\n",
       "  <thead>\n",
       "    <tr style=\"text-align: right;\">\n",
       "      <th></th>\n",
       "      <th>DateScan</th>\n",
       "      <th>Code</th>\n",
       "      <th>Scan_Name</th>\n",
       "      <th>NotesShake</th>\n",
       "    </tr>\n",
       "  </thead>\n",
       "  <tbody>\n",
       "    <tr>\n",
       "      <th>0</th>\n",
       "      <td>2021_07_14</td>\n",
       "      <td>p003P1812</td>\n",
       "      <td>2021_07_14\\TROE2021__0001.tif</td>\n",
       "      <td>NaN</td>\n",
       "    </tr>\n",
       "    <tr>\n",
       "      <th>1</th>\n",
       "      <td>2021_07_14</td>\n",
       "      <td>p004P04--</td>\n",
       "      <td>2021_07_14\\TROE2021__0002.tif</td>\n",
       "      <td>NaN</td>\n",
       "    </tr>\n",
       "    <tr>\n",
       "      <th>2</th>\n",
       "      <td>2021_07_14</td>\n",
       "      <td>p005P2103</td>\n",
       "      <td>2021_07_14\\TROE2021__0003.tif</td>\n",
       "      <td>NaN</td>\n",
       "    </tr>\n",
       "    <tr>\n",
       "      <th>3</th>\n",
       "      <td>2021_07_14</td>\n",
       "      <td>p006P23--</td>\n",
       "      <td>2021_07_14\\TROE2021__0004.tif</td>\n",
       "      <td>NaN</td>\n",
       "    </tr>\n",
       "    <tr>\n",
       "      <th>4</th>\n",
       "      <td>2021_07_14</td>\n",
       "      <td>p007P1404</td>\n",
       "      <td>2021_07_14\\TROE2021__0005.tif</td>\n",
       "      <td>NaN</td>\n",
       "    </tr>\n",
       "    <tr>\n",
       "      <th>...</th>\n",
       "      <td>...</td>\n",
       "      <td>...</td>\n",
       "      <td>...</td>\n",
       "      <td>...</td>\n",
       "    </tr>\n",
       "    <tr>\n",
       "      <th>523</th>\n",
       "      <td>2021_07_22</td>\n",
       "      <td>p596P0414</td>\n",
       "      <td>2021_07_22\\JONTROE2021__0023.tif</td>\n",
       "      <td>NaN</td>\n",
       "    </tr>\n",
       "    <tr>\n",
       "      <th>524</th>\n",
       "      <td>2021_07_22</td>\n",
       "      <td>p597P11--</td>\n",
       "      <td>2021_07_22\\TROE2021__0056.tif</td>\n",
       "      <td>NaN</td>\n",
       "    </tr>\n",
       "    <tr>\n",
       "      <th>525</th>\n",
       "      <td>2021_07_22</td>\n",
       "      <td>p598P1823</td>\n",
       "      <td>2021_07_22\\TROE2021__0057.tif</td>\n",
       "      <td>NaN</td>\n",
       "    </tr>\n",
       "    <tr>\n",
       "      <th>526</th>\n",
       "      <td>2021_07_22</td>\n",
       "      <td>p599P1916</td>\n",
       "      <td>2021_07_22\\JONTROE2021__0024.tif</td>\n",
       "      <td>NaN</td>\n",
       "    </tr>\n",
       "    <tr>\n",
       "      <th>527</th>\n",
       "      <td>2021_07_22</td>\n",
       "      <td>p600P2006</td>\n",
       "      <td>2021_07_22\\TROE2021__0058.tif</td>\n",
       "      <td>NaN</td>\n",
       "    </tr>\n",
       "  </tbody>\n",
       "</table>\n",
       "<p>528 rows × 4 columns</p>\n",
       "</div>"
      ],
      "text/plain": [
       "       DateScan       Code                         Scan_Name NotesShake\n",
       "0    2021_07_14  p003P1812     2021_07_14\\TROE2021__0001.tif        NaN\n",
       "1    2021_07_14  p004P04--     2021_07_14\\TROE2021__0002.tif        NaN\n",
       "2    2021_07_14  p005P2103     2021_07_14\\TROE2021__0003.tif        NaN\n",
       "3    2021_07_14  p006P23--     2021_07_14\\TROE2021__0004.tif        NaN\n",
       "4    2021_07_14  p007P1404     2021_07_14\\TROE2021__0005.tif        NaN\n",
       "..          ...        ...                               ...        ...\n",
       "523  2021_07_22  p596P0414  2021_07_22\\JONTROE2021__0023.tif        NaN\n",
       "524  2021_07_22  p597P11--     2021_07_22\\TROE2021__0056.tif        NaN\n",
       "525  2021_07_22  p598P1823     2021_07_22\\TROE2021__0057.tif        NaN\n",
       "526  2021_07_22  p599P1916  2021_07_22\\JONTROE2021__0024.tif        NaN\n",
       "527  2021_07_22  p600P2006     2021_07_22\\TROE2021__0058.tif        NaN\n",
       "\n",
       "[528 rows x 4 columns]"
      ]
     },
     "execution_count": 14,
     "metadata": {},
     "output_type": "execute_result"
    }
   ],
   "source": [
    "KeyFile = './Files/Key_TROE2021.csv'\n",
    "KeyFile = pd.read_csv(KeyFile)\n",
    "KeyFile\n"
   ]
  },
  {
   "cell_type": "markdown",
   "id": "4f28a72b-72b7-4a1d-8307-247733c3361d",
   "metadata": {},
   "source": [
    "## Rename"
   ]
  },
  {
   "cell_type": "code",
   "execution_count": null,
   "id": "276af266-316c-4674-864d-a61e45f47cf5",
   "metadata": {},
   "outputs": [],
   "source": [
    "for i in Images:\n",
    "#     print(i)\n",
    "    try:\n",
    "        # Image page\n",
    "        i_path = i.split('\\\\')[:-2]\n",
    "        i_path = '\\\\'.join(i_path)\n",
    "    #     i_path\n",
    "\n",
    "        # Old name\n",
    "        old_name = i.split('\\\\')[-2:]\n",
    "        old_name = '\\\\'.join(old_name)\n",
    "    #     old_name\n",
    "\n",
    "        # New name\n",
    "        new_name = KeyFile.loc[KeyFile.Scan_Name==old_name]['Code']\n",
    "        new_name = new_name.values[0]\n",
    "        new_name = i_path + '\\\\' + new_name + '.tif'\n",
    "\n",
    "        # Rename\n",
    "        os.rename(i, new_name)\n",
    "    except:\n",
    "        pass # doing nothing on exception\n",
    "    \n",
    "    "
   ]
  },
  {
   "cell_type": "code",
   "execution_count": null,
   "id": "64ba08cb-d37c-4f36-98b6-1f1fac6eaa68",
   "metadata": {},
   "outputs": [],
   "source": []
  },
  {
   "cell_type": "code",
   "execution_count": null,
   "id": "453a6318-ac04-471a-a9fd-c27ebf5c88fb",
   "metadata": {},
   "outputs": [],
   "source": []
  },
  {
   "cell_type": "markdown",
   "id": "4aaa13b8-9f49-40ba-80ed-1fc625abc519",
   "metadata": {},
   "source": [
    "# TROE 2020"
   ]
  },
  {
   "cell_type": "markdown",
   "id": "9c2d9ad3-4940-478b-97df-8084ff55af54",
   "metadata": {},
   "source": [
    "## Images to rename"
   ]
  },
  {
   "cell_type": "code",
   "execution_count": 28,
   "id": "df6621df-b9b5-4ccc-844b-b7641470ba1a",
   "metadata": {},
   "outputs": [],
   "source": [
    "Images_Path = '.\\Images\\TROE2020'\n",
    "# Images_Path = '.\\Images\\Test'\n",
    "Images = [y for x in os.walk(Images_Path) for y in glob(os.path.join(x[0], '*.tif'))]"
   ]
  },
  {
   "cell_type": "code",
   "execution_count": 29,
   "id": "762c1b97-2671-4f65-b1c2-fd06571a913e",
   "metadata": {},
   "outputs": [
    {
     "data": {
      "text/plain": [
       "364"
      ]
     },
     "execution_count": 29,
     "metadata": {},
     "output_type": "execute_result"
    }
   ],
   "source": [
    "len(Images)\n",
    "# Images"
   ]
  },
  {
   "cell_type": "markdown",
   "id": "d43c3138-8384-4b27-a324-2e926e3bf761",
   "metadata": {},
   "source": [
    "## Load key file with old and names"
   ]
  },
  {
   "cell_type": "code",
   "execution_count": 20,
   "id": "b06deb81-a1ba-4daf-969f-438c6fa8b528",
   "metadata": {},
   "outputs": [],
   "source": [
    "# KeyFile = './Files/Key_TROE2021.csv'\n",
    "# KeyFile = pd.read_csv(KeyFile)\n",
    "# KeyFile\n"
   ]
  },
  {
   "cell_type": "markdown",
   "id": "a6841765-2581-454c-8b3a-a5e7585c349a",
   "metadata": {},
   "source": [
    "## Rename"
   ]
  },
  {
   "cell_type": "code",
   "execution_count": 30,
   "id": "06f47021-b4bb-4ddd-abdb-45366253d7dc",
   "metadata": {},
   "outputs": [
    {
     "name": "stdout",
     "output_type": "stream",
     "text": [
      "Wall time: 3.64 s\n"
     ]
    }
   ],
   "source": [
    "%%time\n",
    "for i in Images:\n",
    "#     print(i)\n",
    "    try:\n",
    "        # Image page\n",
    "        i_path = i.split('\\\\')[:-2]\n",
    "        i_path = '\\\\'.join(i_path)\n",
    "        # i_path\n",
    "\n",
    "        # Old name\n",
    "        old_name = i.split('\\\\')[-2:]\n",
    "        old_name = '_'.join(old_name)\n",
    "        old_name\n",
    "\n",
    "        # New name\n",
    "        new_name = i_path + '\\\\' + old_name\n",
    "        new_name\n",
    "\n",
    "        # Rename\n",
    "        os.rename(i, new_name)\n",
    "    except:\n",
    "        pass # doing nothing on exception\n",
    "    \n",
    "    "
   ]
  },
  {
   "cell_type": "code",
   "execution_count": null,
   "id": "e698914c-81fb-47e2-9bdb-7d3c6faf54e5",
   "metadata": {},
   "outputs": [],
   "source": []
  },
  {
   "cell_type": "code",
   "execution_count": null,
   "id": "09b0decb-a7d8-4528-8bde-256b21054de3",
   "metadata": {},
   "outputs": [],
   "source": []
  },
  {
   "cell_type": "code",
   "execution_count": null,
   "id": "afd7aab5-12ad-4343-9d37-33a4d2c8ca43",
   "metadata": {},
   "outputs": [],
   "source": []
  },
  {
   "cell_type": "code",
   "execution_count": null,
   "id": "a65e76a1-ce7c-4de4-bb5a-8219727bc319",
   "metadata": {},
   "outputs": [],
   "source": []
  },
  {
   "cell_type": "code",
   "execution_count": null,
   "id": "733dc0d9-1f9c-4abd-a35e-203efbbc156c",
   "metadata": {},
   "outputs": [],
   "source": []
  },
  {
   "cell_type": "code",
   "execution_count": null,
   "id": "ebc7ff6a-3611-4cde-8ea9-dfbf558b9cf5",
   "metadata": {},
   "outputs": [],
   "source": []
  },
  {
   "cell_type": "code",
   "execution_count": null,
   "id": "0a153a0a-02a0-418d-9f0e-e8f56c028439",
   "metadata": {},
   "outputs": [],
   "source": []
  },
  {
   "cell_type": "code",
   "execution_count": null,
   "id": "27c97906-f070-47d8-bdbd-0a38ea2242ef",
   "metadata": {},
   "outputs": [],
   "source": []
  }
 ],
 "metadata": {
  "kernelspec": {
   "display_name": "Python 3 (ipykernel)",
   "language": "python",
   "name": "python3"
  },
  "language_info": {
   "codemirror_mode": {
    "name": "ipython",
    "version": 3
   },
   "file_extension": ".py",
   "mimetype": "text/x-python",
   "name": "python",
   "nbconvert_exporter": "python",
   "pygments_lexer": "ipython3",
   "version": "3.7.3"
  },
  "toc-autonumbering": false
 },
 "nbformat": 4,
 "nbformat_minor": 5
}
