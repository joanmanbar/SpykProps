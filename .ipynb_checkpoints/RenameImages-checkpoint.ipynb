{
 "cells": [
  {
   "cell_type": "markdown",
   "id": "a7216edb-b60f-4528-85d0-249c0690a04a",
   "metadata": {},
   "source": [
    "# Renaming Images"
   ]
  },
  {
   "cell_type": "markdown",
   "id": "135c35e9-0e65-41a4-98f0-1d3abfacb8a8",
   "metadata": {},
   "source": [
    "## Dependencies"
   ]
  },
  {
   "cell_type": "code",
   "execution_count": 1,
   "id": "e2cc40ac-50c4-42b8-a943-f91bbb73fd1e",
   "metadata": {},
   "outputs": [],
   "source": [
    "import os\n",
    "from glob import glob\n",
    "\n",
    "import pandas as pd\n",
    "\n",
    "import matplotlib.pyplot as plt\n",
    "import cv2\n",
    "# from pyzbar import pyzbar\n",
    "\n",
    "from IPython.core.interactiveshell import InteractiveShell\n",
    "InteractiveShell.ast_node_interactivity = \"all\""
   ]
  },
  {
   "cell_type": "markdown",
   "id": "1f345bf1-c536-4030-8372-e870c7d516de",
   "metadata": {},
   "source": [
    "# PGR Rouseau 2021"
   ]
  },
  {
   "cell_type": "markdown",
   "id": "48d694d5-a59c-4d3b-a7e5-b17ee9ac4985",
   "metadata": {},
   "source": [
    "## Images to rename"
   ]
  },
  {
   "cell_type": "code",
   "execution_count": null,
   "id": "e6f06b1b-d58f-4d1b-8ed8-30ee96527442",
   "metadata": {},
   "outputs": [],
   "source": [
    "Images_Path = '.\\Images\\PGR_Roseau2021'\n",
    "# Images_Path = '.\\Images\\Test'\n",
    "Images = [y for x in os.walk(Images_Path) for y in glob(os.path.join(x[0], '*.tif'))]"
   ]
  },
  {
   "cell_type": "code",
   "execution_count": null,
   "id": "64338fcc-0d94-4116-bae6-ffc64edff290",
   "metadata": {},
   "outputs": [],
   "source": [
    "len(Images)\n",
    "# Images"
   ]
  },
  {
   "cell_type": "markdown",
   "id": "55677822-2b0b-4fc6-9bc0-f3826e4f7fb1",
   "metadata": {},
   "source": [
    "## Load key file with old and names"
   ]
  },
  {
   "cell_type": "code",
   "execution_count": null,
   "id": "8a7aa140-b068-41d1-9e0e-c1f00ef9cb6f",
   "metadata": {},
   "outputs": [],
   "source": [
    "KeyFile = './Files/Key_PGR_Roseau2021.csv'\n",
    "KeyFile = pd.read_csv(KeyFile)\n",
    "# KeyFile"
   ]
  },
  {
   "cell_type": "markdown",
   "id": "2e68d243-4a4d-4075-a11a-b0c526a9fa11",
   "metadata": {},
   "source": [
    "## Rename"
   ]
  },
  {
   "cell_type": "code",
   "execution_count": null,
   "id": "cd6db698-ca9f-4cb8-8fa1-f514859a0ca9",
   "metadata": {},
   "outputs": [],
   "source": [
    "for i in Images:\n",
    "    \n",
    "    # Image page\n",
    "    i_path = i.split('\\\\')[:-1]\n",
    "    i_path = '\\\\'.join(i_path)\n",
    "    \n",
    "    # Old name\n",
    "    old_name = i.split('\\\\')[-1]\n",
    "    old_name\n",
    "    \n",
    "    # New name\n",
    "    new_name = KeyFile.loc[KeyFile.Scan_Name==old_name]['Code']\n",
    "    new_name = new_name.values[0]\n",
    "    new_name = i_path + '\\\\' + new_name + '.tif'\n",
    "    \n",
    "    # Rename\n",
    "    os.rename(i, new_name)\n",
    "    \n",
    "    "
   ]
  },
  {
   "cell_type": "code",
   "execution_count": null,
   "id": "37ca7422-fc6e-4e45-a734-8db489a2f95d",
   "metadata": {},
   "outputs": [],
   "source": []
  },
  {
   "cell_type": "markdown",
   "id": "b0ce4aa3-74ea-4ec6-92a0-29c120aa399f",
   "metadata": {},
   "source": [
    "# TROE 2021"
   ]
  },
  {
   "cell_type": "markdown",
   "id": "7465ecb6-4b28-4aab-855c-6366e7b7c9b8",
   "metadata": {},
   "source": [
    "## Images to rename"
   ]
  },
  {
   "cell_type": "code",
   "execution_count": null,
   "id": "ba47ccef-900f-4eda-a775-c04a4c841d74",
   "metadata": {},
   "outputs": [],
   "source": [
    "Images_Path = '.\\Images\\TROE2021'\n",
    "# Images_Path = '.\\Images\\Test'\n",
    "Images = [y for x in os.walk(Images_Path) for y in glob(os.path.join(x[0], '*.tif'))]"
   ]
  },
  {
   "cell_type": "code",
   "execution_count": null,
   "id": "9824d7b9-1413-4e9e-afaa-8a6f37c24fe3",
   "metadata": {},
   "outputs": [],
   "source": [
    "len(Images)\n",
    "# Images"
   ]
  },
  {
   "cell_type": "markdown",
   "id": "edad16ef-dfde-4f33-913a-51e012b9cc84",
   "metadata": {},
   "source": [
    "## Load key file with old and names"
   ]
  },
  {
   "cell_type": "code",
   "execution_count": null,
   "id": "496326e7-571c-4c5b-afd0-7444462fe3e6",
   "metadata": {},
   "outputs": [],
   "source": [
    "KeyFile = './Files/Key_TROE2021.csv'\n",
    "KeyFile = pd.read_csv(KeyFile)\n",
    "KeyFile\n"
   ]
  },
  {
   "cell_type": "markdown",
   "id": "4f28a72b-72b7-4a1d-8307-247733c3361d",
   "metadata": {},
   "source": [
    "## Rename"
   ]
  },
  {
   "cell_type": "code",
   "execution_count": null,
   "id": "276af266-316c-4674-864d-a61e45f47cf5",
   "metadata": {},
   "outputs": [],
   "source": [
    "for i in Images:\n",
    "#     print(i)\n",
    "    try:\n",
    "        # Image page\n",
    "        i_path = i.split('\\\\')[:-2]\n",
    "        i_path = '\\\\'.join(i_path)\n",
    "    #     i_path\n",
    "\n",
    "        # Old name\n",
    "        old_name = i.split('\\\\')[-2:]\n",
    "        old_name = '\\\\'.join(old_name)\n",
    "    #     old_name\n",
    "\n",
    "        # New name\n",
    "        new_name = KeyFile.loc[KeyFile.Scan_Name==old_name]['Code']\n",
    "        new_name = new_name.values[0]\n",
    "        new_name = i_path + '\\\\' + new_name + '.tif'\n",
    "\n",
    "        # Rename\n",
    "        os.rename(i, new_name)\n",
    "    except:\n",
    "        pass # doing nothing on exception\n",
    "    \n",
    "    "
   ]
  },
  {
   "cell_type": "code",
   "execution_count": null,
   "id": "64ba08cb-d37c-4f36-98b6-1f1fac6eaa68",
   "metadata": {},
   "outputs": [],
   "source": []
  },
  {
   "cell_type": "code",
   "execution_count": null,
   "id": "453a6318-ac04-471a-a9fd-c27ebf5c88fb",
   "metadata": {},
   "outputs": [],
   "source": []
  },
  {
   "cell_type": "markdown",
   "id": "4aaa13b8-9f49-40ba-80ed-1fc625abc519",
   "metadata": {},
   "source": [
    "# TROE 2020"
   ]
  },
  {
   "cell_type": "markdown",
   "id": "9c2d9ad3-4940-478b-97df-8084ff55af54",
   "metadata": {},
   "source": [
    "## Images to rename"
   ]
  },
  {
   "cell_type": "code",
   "execution_count": null,
   "id": "df6621df-b9b5-4ccc-844b-b7641470ba1a",
   "metadata": {},
   "outputs": [],
   "source": [
    "Images_Path = '.\\Images\\TROE2020'\n",
    "# Images_Path = '.\\Images\\Test'\n",
    "Images = [y for x in os.walk(Images_Path) for y in glob(os.path.join(x[0], '*.tif'))]\n"
   ]
  },
  {
   "cell_type": "code",
   "execution_count": null,
   "id": "762c1b97-2671-4f65-b1c2-fd06571a913e",
   "metadata": {},
   "outputs": [],
   "source": [
    "len(Images)\n",
    "# Images"
   ]
  },
  {
   "cell_type": "markdown",
   "id": "d43c3138-8384-4b27-a324-2e926e3bf761",
   "metadata": {},
   "source": [
    "## Load key file with old and names"
   ]
  },
  {
   "cell_type": "code",
   "execution_count": null,
   "id": "b06deb81-a1ba-4daf-969f-438c6fa8b528",
   "metadata": {},
   "outputs": [],
   "source": [
    "# KeyFile = './Files/Key_TROE2021.csv'\n",
    "# KeyFile = pd.read_csv(KeyFile)\n",
    "# KeyFile\n"
   ]
  },
  {
   "cell_type": "markdown",
   "id": "a6841765-2581-454c-8b3a-a5e7585c349a",
   "metadata": {},
   "source": [
    "## Rename"
   ]
  },
  {
   "cell_type": "code",
   "execution_count": null,
   "id": "06f47021-b4bb-4ddd-abdb-45366253d7dc",
   "metadata": {},
   "outputs": [],
   "source": [
    "%%time\n",
    "for i in Images:\n",
    "#     print(i)\n",
    "    try:\n",
    "        # Image page\n",
    "        i_path = i.split('\\\\')[:-2]\n",
    "        i_path = '\\\\'.join(i_path)\n",
    "        # i_path\n",
    "\n",
    "        # Old name\n",
    "        old_name = i.split('\\\\')[-2:]\n",
    "        old_name = '_'.join(old_name)\n",
    "        old_name\n",
    "\n",
    "        # New name\n",
    "        new_name = i_path + '\\\\' + old_name\n",
    "        new_name\n",
    "\n",
    "        # Rename\n",
    "        os.rename(i, new_name)\n",
    "    except:\n",
    "        pass # doing nothing on exception\n",
    "    \n",
    "    "
   ]
  },
  {
   "cell_type": "code",
   "execution_count": null,
   "id": "e698914c-81fb-47e2-9bdb-7d3c6faf54e5",
   "metadata": {},
   "outputs": [],
   "source": []
  },
  {
   "cell_type": "code",
   "execution_count": null,
   "id": "09b0decb-a7d8-4528-8bde-256b21054de3",
   "metadata": {},
   "outputs": [],
   "source": []
  },
  {
   "cell_type": "markdown",
   "id": "1872989a-7836-4c5e-a6c1-34220a94f609",
   "metadata": {},
   "source": [
    "# PGR GH 2021"
   ]
  },
  {
   "cell_type": "markdown",
   "id": "86962e35-6c49-4a09-a0d5-5046e0815b32",
   "metadata": {},
   "source": [
    "## Images to rename"
   ]
  },
  {
   "cell_type": "code",
   "execution_count": 43,
   "id": "ce01f97e-8d4c-4966-a586-9ec577a6b45f",
   "metadata": {},
   "outputs": [],
   "source": [
    "Images_Path = '.\\Images\\PGR_GH2021'\n",
    "# Images_Path = '.\\Images\\Test'\n",
    "Images = [y for x in os.walk(Images_Path) for y in glob(os.path.join(x[0], '*.tif'))]\n",
    "\n",
    "# Remove discarded\n",
    "Images = [ x for x in Images if \"Discarded(edited)\" not in x ]"
   ]
  },
  {
   "cell_type": "code",
   "execution_count": 39,
   "id": "a07ebef3-8996-4603-bac6-603614a67d95",
   "metadata": {},
   "outputs": [
    {
     "data": {
      "text/plain": [
       "127"
      ]
     },
     "execution_count": 39,
     "metadata": {},
     "output_type": "execute_result"
    }
   ],
   "source": [
    "len(Images)\n",
    "# Images"
   ]
  },
  {
   "cell_type": "markdown",
   "id": "5a754f1f-9625-41e3-84ba-f96915c07a7b",
   "metadata": {},
   "source": [
    "## Load key file with old and names"
   ]
  },
  {
   "cell_type": "code",
   "execution_count": 45,
   "id": "5690d835-8291-4cdd-9a3a-7c4a3f80dfda",
   "metadata": {},
   "outputs": [],
   "source": [
    "KeyFile = './Files/Key_PGR_GH2021.csv'\n",
    "KeyFile = pd.read_csv(KeyFile)\n",
    "# KeyFile"
   ]
  },
  {
   "cell_type": "markdown",
   "id": "df617e2a-3c3f-463a-a305-b7ca32081ae4",
   "metadata": {},
   "source": [
    "## Rename"
   ]
  },
  {
   "cell_type": "code",
   "execution_count": 76,
   "id": "b2ac03dc-b42e-4ee0-ad15-f6b1a6547ddb",
   "metadata": {},
   "outputs": [
    {
     "data": {
      "text/plain": [
       "'20210721_JBOPGR_GHSpring2021__0001.tif'"
      ]
     },
     "execution_count": 76,
     "metadata": {},
     "output_type": "execute_result"
    },
    {
     "data": {
      "text/plain": [
       "'20210721_JBOPGR_GHSpring2021__0002.tif'"
      ]
     },
     "execution_count": 76,
     "metadata": {},
     "output_type": "execute_result"
    },
    {
     "data": {
      "text/plain": [
       "'20210721_JBOPGR_GHSpring2021__0003.tif'"
      ]
     },
     "execution_count": 76,
     "metadata": {},
     "output_type": "execute_result"
    },
    {
     "data": {
      "text/plain": [
       "'20210721_JBOPGR_GHSpring2021__0004.tif'"
      ]
     },
     "execution_count": 76,
     "metadata": {},
     "output_type": "execute_result"
    },
    {
     "data": {
      "text/plain": [
       "'20210721_JBOPGR_GHSpring2021__0005.tif'"
      ]
     },
     "execution_count": 76,
     "metadata": {},
     "output_type": "execute_result"
    },
    {
     "data": {
      "text/plain": [
       "'20210721_JBOPGR_GHSpring2021__0006.tif'"
      ]
     },
     "execution_count": 76,
     "metadata": {},
     "output_type": "execute_result"
    },
    {
     "data": {
      "text/plain": [
       "'20210721_PC2_PGRSpring2021__0002.tif'"
      ]
     },
     "execution_count": 76,
     "metadata": {},
     "output_type": "execute_result"
    },
    {
     "data": {
      "text/plain": [
       "'20210721_PC2_PGRSpring2021__0001.tif'"
      ]
     },
     "execution_count": 76,
     "metadata": {},
     "output_type": "execute_result"
    },
    {
     "data": {
      "text/plain": [
       "'20210721_PC2_PGRSpring2021__0004.tif'"
      ]
     },
     "execution_count": 76,
     "metadata": {},
     "output_type": "execute_result"
    },
    {
     "data": {
      "text/plain": [
       "'20210721_PC2_PGRSpring2021__0003.tif'"
      ]
     },
     "execution_count": 76,
     "metadata": {},
     "output_type": "execute_result"
    },
    {
     "data": {
      "text/plain": [
       "'20210721_PC2_PGRSpring2021__0006.tif'"
      ]
     },
     "execution_count": 76,
     "metadata": {},
     "output_type": "execute_result"
    },
    {
     "data": {
      "text/plain": [
       "'20210721_PC2_PGRSpring2021__0005.tif'"
      ]
     },
     "execution_count": 76,
     "metadata": {},
     "output_type": "execute_result"
    },
    {
     "data": {
      "text/plain": [
       "'20210719_KPGR_GHSpring2021__0008.tif'"
      ]
     },
     "execution_count": 76,
     "metadata": {},
     "output_type": "execute_result"
    },
    {
     "data": {
      "text/plain": [
       "'20210719_KPGR_GHSpring2021__0004.tif'"
      ]
     },
     "execution_count": 76,
     "metadata": {},
     "output_type": "execute_result"
    },
    {
     "data": {
      "text/plain": [
       "'20210719_KPGR_GHSpring2021__0002.tif'"
      ]
     },
     "execution_count": 76,
     "metadata": {},
     "output_type": "execute_result"
    },
    {
     "data": {
      "text/plain": [
       "'20210719_KPGR_GHSpring2021__0006.tif'"
      ]
     },
     "execution_count": 76,
     "metadata": {},
     "output_type": "execute_result"
    },
    {
     "data": {
      "text/plain": [
       "'20210719_KPGR_GHSpring2021__0012.tif'"
      ]
     },
     "execution_count": 76,
     "metadata": {},
     "output_type": "execute_result"
    },
    {
     "data": {
      "text/plain": [
       "'20210719_KPGR_GHSpring2021__0010.tif'"
      ]
     },
     "execution_count": 76,
     "metadata": {},
     "output_type": "execute_result"
    },
    {
     "data": {
      "text/plain": [
       "'20210719_KPGR_GHSpring2021__0005.tif'"
      ]
     },
     "execution_count": 76,
     "metadata": {},
     "output_type": "execute_result"
    },
    {
     "data": {
      "text/plain": [
       "'20210719_KPGR_GHSpring2021__0007.tif'"
      ]
     },
     "execution_count": 76,
     "metadata": {},
     "output_type": "execute_result"
    },
    {
     "data": {
      "text/plain": [
       "'20210719_KPGR_GHSpring2021__0003.tif'"
      ]
     },
     "execution_count": 76,
     "metadata": {},
     "output_type": "execute_result"
    },
    {
     "data": {
      "text/plain": [
       "'20210719_KPGR_GHSpring2021__0001.tif'"
      ]
     },
     "execution_count": 76,
     "metadata": {},
     "output_type": "execute_result"
    },
    {
     "data": {
      "text/plain": [
       "'20210719_KPGR_GHSpring2021__0011.tif'"
      ]
     },
     "execution_count": 76,
     "metadata": {},
     "output_type": "execute_result"
    },
    {
     "data": {
      "text/plain": [
       "'20210719_KPGR_GHSpring2021__0009.tif'"
      ]
     },
     "execution_count": 76,
     "metadata": {},
     "output_type": "execute_result"
    },
    {
     "data": {
      "text/plain": [
       "'20210719_JONPGR_GHSpring2021__0001.tif'"
      ]
     },
     "execution_count": 76,
     "metadata": {},
     "output_type": "execute_result"
    },
    {
     "data": {
      "text/plain": [
       "'20210719_JONPGR_GHSpring2021__0003.tif'"
      ]
     },
     "execution_count": 76,
     "metadata": {},
     "output_type": "execute_result"
    },
    {
     "data": {
      "text/plain": [
       "'20210719_JONPGR_GHSpring2021__0005.tif'"
      ]
     },
     "execution_count": 76,
     "metadata": {},
     "output_type": "execute_result"
    },
    {
     "data": {
      "text/plain": [
       "'20210719_JONPGR_GHSpring2021__0011.tif'"
      ]
     },
     "execution_count": 76,
     "metadata": {},
     "output_type": "execute_result"
    },
    {
     "data": {
      "text/plain": [
       "'20210719_JONPGR_GHSpring2021__0006.tif'"
      ]
     },
     "execution_count": 76,
     "metadata": {},
     "output_type": "execute_result"
    },
    {
     "data": {
      "text/plain": [
       "'20210719_JONPGR_GHSpring2021__0009.tif'"
      ]
     },
     "execution_count": 76,
     "metadata": {},
     "output_type": "execute_result"
    },
    {
     "data": {
      "text/plain": [
       "'20210719_JONPGR_GHSpring2021__0008.tif'"
      ]
     },
     "execution_count": 76,
     "metadata": {},
     "output_type": "execute_result"
    },
    {
     "data": {
      "text/plain": [
       "'20210719_JONPGR_GHSpring2021__0004.tif'"
      ]
     },
     "execution_count": 76,
     "metadata": {},
     "output_type": "execute_result"
    },
    {
     "data": {
      "text/plain": [
       "'20210719_JONPGR_GHSpring2021__0002.tif'"
      ]
     },
     "execution_count": 76,
     "metadata": {},
     "output_type": "execute_result"
    },
    {
     "data": {
      "text/plain": [
       "'20210719_JONPGR_GHSpring2021__0010.tif'"
      ]
     },
     "execution_count": 76,
     "metadata": {},
     "output_type": "execute_result"
    },
    {
     "data": {
      "text/plain": [
       "'20210719_JONPGR_GHSpring2021__0007.tif'"
      ]
     },
     "execution_count": 76,
     "metadata": {},
     "output_type": "execute_result"
    },
    {
     "data": {
      "text/plain": [
       "'20210720_KPGR_GHSpring2021__0001.tif'"
      ]
     },
     "execution_count": 76,
     "metadata": {},
     "output_type": "execute_result"
    },
    {
     "data": {
      "text/plain": [
       "'20210720_KPGR_GHSpring2021__0002.tif'"
      ]
     },
     "execution_count": 76,
     "metadata": {},
     "output_type": "execute_result"
    },
    {
     "data": {
      "text/plain": [
       "'20210720_KPGR_GHSpring2021__0003.tif'"
      ]
     },
     "execution_count": 76,
     "metadata": {},
     "output_type": "execute_result"
    },
    {
     "data": {
      "text/plain": [
       "'20210720_KPGR_GHSpring2021__0004.tif'"
      ]
     },
     "execution_count": 76,
     "metadata": {},
     "output_type": "execute_result"
    },
    {
     "data": {
      "text/plain": [
       "'20210720_KPGR_GHSpring2021__0005.tif'"
      ]
     },
     "execution_count": 76,
     "metadata": {},
     "output_type": "execute_result"
    },
    {
     "data": {
      "text/plain": [
       "'20210720_KPGR_GHSpring2021__0006.tif'"
      ]
     },
     "execution_count": 76,
     "metadata": {},
     "output_type": "execute_result"
    },
    {
     "data": {
      "text/plain": [
       "'20210720_KPGR_GHSpring2021__0007.tif'"
      ]
     },
     "execution_count": 76,
     "metadata": {},
     "output_type": "execute_result"
    },
    {
     "data": {
      "text/plain": [
       "'20210720_KPGR_GHSpring2021__0008.tif'"
      ]
     },
     "execution_count": 76,
     "metadata": {},
     "output_type": "execute_result"
    },
    {
     "data": {
      "text/plain": [
       "'20210720_KPGR_GHSpring2021__0009.tif'"
      ]
     },
     "execution_count": 76,
     "metadata": {},
     "output_type": "execute_result"
    },
    {
     "data": {
      "text/plain": [
       "'20210720_KPGR_GHSpring2021__0010.tif'"
      ]
     },
     "execution_count": 76,
     "metadata": {},
     "output_type": "execute_result"
    },
    {
     "data": {
      "text/plain": [
       "'20210720_KPGR_GHSpring2021__0011.tif'"
      ]
     },
     "execution_count": 76,
     "metadata": {},
     "output_type": "execute_result"
    },
    {
     "data": {
      "text/plain": [
       "'20210720_KPGR_GHSpring2021__0012.tif'"
      ]
     },
     "execution_count": 76,
     "metadata": {},
     "output_type": "execute_result"
    },
    {
     "data": {
      "text/plain": [
       "'20210720_KPGR_GHSpring2021__0013.tif'"
      ]
     },
     "execution_count": 76,
     "metadata": {},
     "output_type": "execute_result"
    },
    {
     "data": {
      "text/plain": [
       "'20210720_KPGR_GHSpring2021__0014.tif'"
      ]
     },
     "execution_count": 76,
     "metadata": {},
     "output_type": "execute_result"
    },
    {
     "data": {
      "text/plain": [
       "'20210720_KPGR_GHSpring2021__0015.tif'"
      ]
     },
     "execution_count": 76,
     "metadata": {},
     "output_type": "execute_result"
    },
    {
     "data": {
      "text/plain": [
       "'20210720_KPGR_GHSpring2021__0016.tif'"
      ]
     },
     "execution_count": 76,
     "metadata": {},
     "output_type": "execute_result"
    },
    {
     "data": {
      "text/plain": [
       "'20210720_KPGR_GHSpring2021__0017.tif'"
      ]
     },
     "execution_count": 76,
     "metadata": {},
     "output_type": "execute_result"
    },
    {
     "data": {
      "text/plain": [
       "'20210720_KPGR_GHSpring2021__0018.tif'"
      ]
     },
     "execution_count": 76,
     "metadata": {},
     "output_type": "execute_result"
    },
    {
     "data": {
      "text/plain": [
       "'20210720_KPGR_GHSpring2021__0019.tif'"
      ]
     },
     "execution_count": 76,
     "metadata": {},
     "output_type": "execute_result"
    },
    {
     "data": {
      "text/plain": [
       "'20210720_KPGR_GHSpring2021__0020.tif'"
      ]
     },
     "execution_count": 76,
     "metadata": {},
     "output_type": "execute_result"
    },
    {
     "data": {
      "text/plain": [
       "'20210720_KPGR_GHSpring2021__0021.tif'"
      ]
     },
     "execution_count": 76,
     "metadata": {},
     "output_type": "execute_result"
    },
    {
     "data": {
      "text/plain": [
       "'20210720_KPGR_GHSpring2021__0022.tif'"
      ]
     },
     "execution_count": 76,
     "metadata": {},
     "output_type": "execute_result"
    },
    {
     "data": {
      "text/plain": [
       "'20210720_KPGR_GHSpring2021__0023.tif'"
      ]
     },
     "execution_count": 76,
     "metadata": {},
     "output_type": "execute_result"
    },
    {
     "data": {
      "text/plain": [
       "'20210720_KPGR_GHSpring2021__0024.tif'"
      ]
     },
     "execution_count": 76,
     "metadata": {},
     "output_type": "execute_result"
    },
    {
     "data": {
      "text/plain": [
       "'20210720_KPGR_GHSpring2021__0025.tif'"
      ]
     },
     "execution_count": 76,
     "metadata": {},
     "output_type": "execute_result"
    },
    {
     "data": {
      "text/plain": [
       "'20210720_KPGR_GHSpring2021__0026.tif'"
      ]
     },
     "execution_count": 76,
     "metadata": {},
     "output_type": "execute_result"
    },
    {
     "data": {
      "text/plain": [
       "'20210720_KPGR_GHSpring2021__0027.tif'"
      ]
     },
     "execution_count": 76,
     "metadata": {},
     "output_type": "execute_result"
    },
    {
     "data": {
      "text/plain": [
       "'20210720_KPGR_GHSpring2021__0028.tif'"
      ]
     },
     "execution_count": 76,
     "metadata": {},
     "output_type": "execute_result"
    },
    {
     "data": {
      "text/plain": [
       "'20210720_KPGR_GHSpring2021__0029.tif'"
      ]
     },
     "execution_count": 76,
     "metadata": {},
     "output_type": "execute_result"
    },
    {
     "data": {
      "text/plain": [
       "'20210720_KPGR_GHSpring2021__0030.tif'"
      ]
     },
     "execution_count": 76,
     "metadata": {},
     "output_type": "execute_result"
    },
    {
     "data": {
      "text/plain": [
       "'20210720_KPGR_GHSpring2021__0031.tif'"
      ]
     },
     "execution_count": 76,
     "metadata": {},
     "output_type": "execute_result"
    },
    {
     "data": {
      "text/plain": [
       "'20210720_KPGR_GHSpring2021__0032.tif'"
      ]
     },
     "execution_count": 76,
     "metadata": {},
     "output_type": "execute_result"
    },
    {
     "data": {
      "text/plain": [
       "'20210720_KPGR_GHSpring2021__0033.tif'"
      ]
     },
     "execution_count": 76,
     "metadata": {},
     "output_type": "execute_result"
    },
    {
     "data": {
      "text/plain": [
       "'20210720_KPGR_GHSpring2021__0034.tif'"
      ]
     },
     "execution_count": 76,
     "metadata": {},
     "output_type": "execute_result"
    },
    {
     "data": {
      "text/plain": [
       "'20210720_PC2_PGRSpring2021__0001.tif'"
      ]
     },
     "execution_count": 76,
     "metadata": {},
     "output_type": "execute_result"
    },
    {
     "data": {
      "text/plain": [
       "'20210720_PC2_PGRSpring2021__0003.tif'"
      ]
     },
     "execution_count": 76,
     "metadata": {},
     "output_type": "execute_result"
    },
    {
     "data": {
      "text/plain": [
       "'20210720_PC2_PGRSpring2021__0002.tif'"
      ]
     },
     "execution_count": 76,
     "metadata": {},
     "output_type": "execute_result"
    },
    {
     "data": {
      "text/plain": [
       "'20210720_PC2_PGRSpring2021__0004.tif'"
      ]
     },
     "execution_count": 76,
     "metadata": {},
     "output_type": "execute_result"
    },
    {
     "data": {
      "text/plain": [
       "'20210720_PC2_PGRSpring2021__0005.tif'"
      ]
     },
     "execution_count": 76,
     "metadata": {},
     "output_type": "execute_result"
    },
    {
     "data": {
      "text/plain": [
       "'20210720_PC2_PGRSpring2021__0007.tif'"
      ]
     },
     "execution_count": 76,
     "metadata": {},
     "output_type": "execute_result"
    },
    {
     "data": {
      "text/plain": [
       "'20210720_PC2_PGRSpring2021__0006.tif'"
      ]
     },
     "execution_count": 76,
     "metadata": {},
     "output_type": "execute_result"
    },
    {
     "data": {
      "text/plain": [
       "'20210720_PC2_PGRSpring2021__0009.tif'"
      ]
     },
     "execution_count": 76,
     "metadata": {},
     "output_type": "execute_result"
    },
    {
     "data": {
      "text/plain": [
       "'20210720_PC2_PGRSpring2021__0008.tif'"
      ]
     },
     "execution_count": 76,
     "metadata": {},
     "output_type": "execute_result"
    },
    {
     "data": {
      "text/plain": [
       "'20210720_PC2_PGRSpring2021__0011.tif'"
      ]
     },
     "execution_count": 76,
     "metadata": {},
     "output_type": "execute_result"
    },
    {
     "data": {
      "text/plain": [
       "'20210720_PC2_PGRSpring2021__0010.tif'"
      ]
     },
     "execution_count": 76,
     "metadata": {},
     "output_type": "execute_result"
    },
    {
     "data": {
      "text/plain": [
       "'20210720_PC2_PGRSpring2021__0012.tif'"
      ]
     },
     "execution_count": 76,
     "metadata": {},
     "output_type": "execute_result"
    },
    {
     "data": {
      "text/plain": [
       "'20210720_PC2_PGRSpring2021__0014.tif'"
      ]
     },
     "execution_count": 76,
     "metadata": {},
     "output_type": "execute_result"
    },
    {
     "data": {
      "text/plain": [
       "'20210720_PC2_PGRSpring2021__0013.tif'"
      ]
     },
     "execution_count": 76,
     "metadata": {},
     "output_type": "execute_result"
    },
    {
     "data": {
      "text/plain": [
       "'20210720_PC2_PGRSpring2021__0016.tif'"
      ]
     },
     "execution_count": 76,
     "metadata": {},
     "output_type": "execute_result"
    },
    {
     "data": {
      "text/plain": [
       "'20210720_PC2_PGRSpring2021__0015.tif'"
      ]
     },
     "execution_count": 76,
     "metadata": {},
     "output_type": "execute_result"
    },
    {
     "data": {
      "text/plain": [
       "'20210720_PC2_PGRSpring2021__0018.tif'"
      ]
     },
     "execution_count": 76,
     "metadata": {},
     "output_type": "execute_result"
    },
    {
     "data": {
      "text/plain": [
       "'20210720_PC2_PGRSpring2021__0017.tif'"
      ]
     },
     "execution_count": 76,
     "metadata": {},
     "output_type": "execute_result"
    },
    {
     "data": {
      "text/plain": [
       "'20210720_PC2_PGRSpring2021__0020.tif'"
      ]
     },
     "execution_count": 76,
     "metadata": {},
     "output_type": "execute_result"
    },
    {
     "data": {
      "text/plain": [
       "'20210720_PC2_PGRSpring2021__0019.tif'"
      ]
     },
     "execution_count": 76,
     "metadata": {},
     "output_type": "execute_result"
    },
    {
     "data": {
      "text/plain": [
       "'20210720_PC2_PGRSpring2021__0022.tif'"
      ]
     },
     "execution_count": 76,
     "metadata": {},
     "output_type": "execute_result"
    },
    {
     "data": {
      "text/plain": [
       "'20210720_PC2_PGRSpring2021__0021.tif'"
      ]
     },
     "execution_count": 76,
     "metadata": {},
     "output_type": "execute_result"
    },
    {
     "data": {
      "text/plain": [
       "'20210720_PC2_PGRSpring2021__0023.tif'"
      ]
     },
     "execution_count": 76,
     "metadata": {},
     "output_type": "execute_result"
    },
    {
     "data": {
      "text/plain": [
       "'20210720_PC2_PGRSpring2021__0024.tif'"
      ]
     },
     "execution_count": 76,
     "metadata": {},
     "output_type": "execute_result"
    },
    {
     "data": {
      "text/plain": [
       "'20210720_PC2_PGRSpring2021__0026.tif'"
      ]
     },
     "execution_count": 76,
     "metadata": {},
     "output_type": "execute_result"
    },
    {
     "data": {
      "text/plain": [
       "'20210720_PC2_PGRSpring2021__0025.tif'"
      ]
     },
     "execution_count": 76,
     "metadata": {},
     "output_type": "execute_result"
    },
    {
     "data": {
      "text/plain": [
       "'20210720_PC2_PGRSpring2021__0028.tif'"
      ]
     },
     "execution_count": 76,
     "metadata": {},
     "output_type": "execute_result"
    },
    {
     "data": {
      "text/plain": [
       "'20210720_PC2_PGRSpring2021__0027.tif'"
      ]
     },
     "execution_count": 76,
     "metadata": {},
     "output_type": "execute_result"
    },
    {
     "data": {
      "text/plain": [
       "'20210720_PC2_PGRSpring2021__0030.tif'"
      ]
     },
     "execution_count": 76,
     "metadata": {},
     "output_type": "execute_result"
    },
    {
     "data": {
      "text/plain": [
       "'20210720_PC2_PGRSpring2021__0032.tif'"
      ]
     },
     "execution_count": 76,
     "metadata": {},
     "output_type": "execute_result"
    },
    {
     "data": {
      "text/plain": [
       "'20210720_PC2_PGRSpring2021__0031.tif'"
      ]
     },
     "execution_count": 76,
     "metadata": {},
     "output_type": "execute_result"
    },
    {
     "data": {
      "text/plain": [
       "'20210720_PC2_PGRSpring2021__0034.tif'"
      ]
     },
     "execution_count": 76,
     "metadata": {},
     "output_type": "execute_result"
    },
    {
     "data": {
      "text/plain": [
       "'20210720_PC2_PGRSpring2021__0029.tif'"
      ]
     },
     "execution_count": 76,
     "metadata": {},
     "output_type": "execute_result"
    },
    {
     "data": {
      "text/plain": [
       "'20210720_PC2_PGRSpring2021__0033.tif'"
      ]
     },
     "execution_count": 76,
     "metadata": {},
     "output_type": "execute_result"
    },
    {
     "data": {
      "text/plain": [
       "'20210720_PC2_PGRSpring2021__0035.tif'"
      ]
     },
     "execution_count": 76,
     "metadata": {},
     "output_type": "execute_result"
    },
    {
     "data": {
      "text/plain": [
       "'20210720_PC2_PGRSpring2021__0037.tif'"
      ]
     },
     "execution_count": 76,
     "metadata": {},
     "output_type": "execute_result"
    },
    {
     "data": {
      "text/plain": [
       "'20210720_PC2_PGRSpring2021__0036.tif'"
      ]
     },
     "execution_count": 76,
     "metadata": {},
     "output_type": "execute_result"
    },
    {
     "data": {
      "text/plain": [
       "'20210720_PC2_PGRSpring2021__0039.tif'"
      ]
     },
     "execution_count": 76,
     "metadata": {},
     "output_type": "execute_result"
    },
    {
     "data": {
      "text/plain": [
       "'20210720_PC2_PGRSpring2021__0038.tif'"
      ]
     },
     "execution_count": 76,
     "metadata": {},
     "output_type": "execute_result"
    },
    {
     "data": {
      "text/plain": [
       "'20210720_PC2_PGRSpring2021__0041.tif'"
      ]
     },
     "execution_count": 76,
     "metadata": {},
     "output_type": "execute_result"
    },
    {
     "data": {
      "text/plain": [
       "'20210720_PC2_PGRSpring2021__0040.tif'"
      ]
     },
     "execution_count": 76,
     "metadata": {},
     "output_type": "execute_result"
    },
    {
     "data": {
      "text/plain": [
       "'20210720_PC2_PGRSpring2021__0043.tif'"
      ]
     },
     "execution_count": 76,
     "metadata": {},
     "output_type": "execute_result"
    },
    {
     "data": {
      "text/plain": [
       "'20210720_PC2_PGRSpring2021__0042.tif'"
      ]
     },
     "execution_count": 76,
     "metadata": {},
     "output_type": "execute_result"
    },
    {
     "data": {
      "text/plain": [
       "'20210720_PC2_PGRSpring2021__0045.tif'"
      ]
     },
     "execution_count": 76,
     "metadata": {},
     "output_type": "execute_result"
    },
    {
     "data": {
      "text/plain": [
       "'20210720_PC2_PGRSpring2021__0044.tif'"
      ]
     },
     "execution_count": 76,
     "metadata": {},
     "output_type": "execute_result"
    },
    {
     "data": {
      "text/plain": [
       "'20210720_PC2_PGRSpring2021__0047.tif'"
      ]
     },
     "execution_count": 76,
     "metadata": {},
     "output_type": "execute_result"
    },
    {
     "data": {
      "text/plain": [
       "'20210720_PC2_PGRSpring2021__0046.tif'"
      ]
     },
     "execution_count": 76,
     "metadata": {},
     "output_type": "execute_result"
    },
    {
     "data": {
      "text/plain": [
       "'20210720_PC2_PGRSpring2021__0049.tif'"
      ]
     },
     "execution_count": 76,
     "metadata": {},
     "output_type": "execute_result"
    },
    {
     "data": {
      "text/plain": [
       "'20210720_PC2_PGRSpring2021__0048.tif'"
      ]
     },
     "execution_count": 76,
     "metadata": {},
     "output_type": "execute_result"
    },
    {
     "data": {
      "text/plain": [
       "'20210720_PC2_PGRSpring2021__0051.tif'"
      ]
     },
     "execution_count": 76,
     "metadata": {},
     "output_type": "execute_result"
    },
    {
     "data": {
      "text/plain": [
       "'20210720_PC2_PGRSpring2021__0050.tif'"
      ]
     },
     "execution_count": 76,
     "metadata": {},
     "output_type": "execute_result"
    },
    {
     "data": {
      "text/plain": [
       "'20210720_PC2_PGRSpring2021__0052.tif'"
      ]
     },
     "execution_count": 76,
     "metadata": {},
     "output_type": "execute_result"
    },
    {
     "data": {
      "text/plain": [
       "'20210720_PC2_PGRSpring2021__0054.tif'"
      ]
     },
     "execution_count": 76,
     "metadata": {},
     "output_type": "execute_result"
    },
    {
     "data": {
      "text/plain": [
       "'20210720_PC2_PGRSpring2021__0053.tif'"
      ]
     },
     "execution_count": 76,
     "metadata": {},
     "output_type": "execute_result"
    },
    {
     "data": {
      "text/plain": [
       "'20210720_PC2_PGRSpring2021__0056.tif'"
      ]
     },
     "execution_count": 76,
     "metadata": {},
     "output_type": "execute_result"
    },
    {
     "data": {
      "text/plain": [
       "'20210720_PC2_PGRSpring2021__0055.tif'"
      ]
     },
     "execution_count": 76,
     "metadata": {},
     "output_type": "execute_result"
    },
    {
     "data": {
      "text/plain": [
       "'20210720_PC2_PGRSpring2021__0058.tif'"
      ]
     },
     "execution_count": 76,
     "metadata": {},
     "output_type": "execute_result"
    },
    {
     "data": {
      "text/plain": [
       "'20210720_PC2_PGRSpring2021__0057.tif'"
      ]
     },
     "execution_count": 76,
     "metadata": {},
     "output_type": "execute_result"
    }
   ],
   "source": [
    "for i in Images:\n",
    "    \n",
    "    # Image page\n",
    "    i_path = i.split('\\\\')[:-2]\n",
    "    i_path = '\\\\'.join(i_path)\n",
    "\n",
    "    # Old name\n",
    "    old_name = i.split('\\\\')[-2:]\n",
    "    old_name = '_'.join(old_name)\n",
    "    old_name\n",
    "    \n",
    "    # New name\n",
    "    new_name = KeyFile.loc[KeyFile.Image_Name==old_name]['Code']\n",
    "    new_name = new_name.values[0]\n",
    "    new_name = i_path + '\\\\' + new_name + '.tif'\n",
    "    \n",
    "    # Rename\n",
    "    os.rename(i, new_name)\n",
    "    \n",
    "    "
   ]
  },
  {
   "cell_type": "code",
   "execution_count": null,
   "id": "b92847da-d5d8-49a7-b5c1-1ad63e0ec5a0",
   "metadata": {},
   "outputs": [],
   "source": []
  },
  {
   "cell_type": "code",
   "execution_count": null,
   "id": "afd7aab5-12ad-4343-9d37-33a4d2c8ca43",
   "metadata": {},
   "outputs": [],
   "source": []
  },
  {
   "cell_type": "code",
   "execution_count": null,
   "id": "a65e76a1-ce7c-4de4-bb5a-8219727bc319",
   "metadata": {},
   "outputs": [],
   "source": []
  },
  {
   "cell_type": "code",
   "execution_count": null,
   "id": "733dc0d9-1f9c-4abd-a35e-203efbbc156c",
   "metadata": {},
   "outputs": [],
   "source": []
  },
  {
   "cell_type": "code",
   "execution_count": null,
   "id": "ebc7ff6a-3611-4cde-8ea9-dfbf558b9cf5",
   "metadata": {},
   "outputs": [],
   "source": []
  },
  {
   "cell_type": "code",
   "execution_count": null,
   "id": "0a153a0a-02a0-418d-9f0e-e8f56c028439",
   "metadata": {},
   "outputs": [],
   "source": []
  },
  {
   "cell_type": "code",
   "execution_count": null,
   "id": "27c97906-f070-47d8-bdbd-0a38ea2242ef",
   "metadata": {},
   "outputs": [],
   "source": []
  }
 ],
 "metadata": {
  "kernelspec": {
   "display_name": "Python 3 (ipykernel)",
   "language": "python",
   "name": "python3"
  },
  "language_info": {
   "codemirror_mode": {
    "name": "ipython",
    "version": 3
   },
   "file_extension": ".py",
   "mimetype": "text/x-python",
   "name": "python",
   "nbconvert_exporter": "python",
   "pygments_lexer": "ipython3",
   "version": "3.8.3"
  },
  "toc-autonumbering": false
 },
 "nbformat": 4,
 "nbformat_minor": 5
}
