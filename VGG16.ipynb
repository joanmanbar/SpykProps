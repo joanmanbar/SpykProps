{
 "cells": [
  {
   "cell_type": "code",
   "execution_count": null,
   "id": "0e55b9a4-9585-4539-a4a3-e646280f4cba",
   "metadata": {},
   "outputs": [],
   "source": []
  },
  {
   "cell_type": "code",
   "execution_count": 7,
   "id": "ead49e4a-0d47-4907-8533-a724ce29fdf5",
   "metadata": {},
   "outputs": [],
   "source": [
    "import numpy as np \n",
    "import pandas as pd \n",
    "import matplotlib.pyplot as plt\n",
    "import glob\n",
    "import cv2\n",
    "import pickle\n",
    "\n",
    "from keras.models import Sequential, Model\n",
    "from keras.layers import Conv2D\n",
    "import os\n",
    "from keras.applications.vgg16 import VGG16"
   ]
  },
  {
   "cell_type": "code",
   "execution_count": 8,
   "id": "7696ec4b-4cec-4591-85f0-5cb3879d457c",
   "metadata": {},
   "outputs": [
    {
     "name": "stdout",
     "output_type": "stream",
     "text": [
      "['S2p13T4R3.tif', 'S1p03T3R1.tif', 'S1p05T2R1.tif', 'S1p11T1R3.tif', 'S1p15T5R3.tif', 'IndividualSpikes']\n"
     ]
    }
   ],
   "source": [
    "print(os.listdir(\"Images/TEST\"))"
   ]
  },
  {
   "cell_type": "code",
   "execution_count": null,
   "id": "8729f1d8-d65d-4d5d-947b-f56e41affdda",
   "metadata": {},
   "outputs": [],
   "source": []
  },
  {
   "cell_type": "code",
   "execution_count": null,
   "id": "8a05567c-9cbe-43cb-8dc4-21d1faf1ee75",
   "metadata": {},
   "outputs": [],
   "source": [
    "\n",
    "\n",
    "#Resizing images is optional, CNNs are ok with large images\n",
    "# SIZE_X = 1024 #Resize images (height  = X, width = Y)\n",
    "# SIZE_Y = 996"
   ]
  },
  {
   "cell_type": "code",
   "execution_count": null,
   "id": "403f9bbd-b620-40cd-8735-7549c03b255b",
   "metadata": {},
   "outputs": [],
   "source": []
  },
  {
   "cell_type": "code",
   "execution_count": null,
   "id": "9a401612-6b22-49aa-80c0-1464f5d7aaa8",
   "metadata": {},
   "outputs": [],
   "source": []
  },
  {
   "cell_type": "code",
   "execution_count": null,
   "id": "af6a215d-c848-42a4-8a34-0500c071d66d",
   "metadata": {},
   "outputs": [],
   "source": []
  },
  {
   "cell_type": "code",
   "execution_count": null,
   "id": "697a5381-a8cb-431e-ab77-3b02ad3f65f1",
   "metadata": {},
   "outputs": [],
   "source": []
  },
  {
   "cell_type": "code",
   "execution_count": null,
   "id": "78407397-baad-4ed9-ba45-26507af0cbb4",
   "metadata": {},
   "outputs": [],
   "source": []
  },
  {
   "cell_type": "code",
   "execution_count": null,
   "id": "28182e27-a545-4d1e-aff4-b7fb5402b0db",
   "metadata": {},
   "outputs": [],
   "source": []
  }
 ],
 "metadata": {
  "kernelspec": {
   "display_name": "Python 3",
   "language": "python",
   "name": "python3"
  },
  "language_info": {
   "codemirror_mode": {
    "name": "ipython",
    "version": 3
   },
   "file_extension": ".py",
   "mimetype": "text/x-python",
   "name": "python",
   "nbconvert_exporter": "python",
   "pygments_lexer": "ipython3",
   "version": "3.8.8"
  }
 },
 "nbformat": 4,
 "nbformat_minor": 5
}
