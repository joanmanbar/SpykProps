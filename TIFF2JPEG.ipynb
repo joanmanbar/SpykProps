{
 "cells": [
  {
   "cell_type": "markdown",
   "id": "9f0c8ecc-02f4-494c-bf6a-4238a6d03cd6",
   "metadata": {},
   "source": [
    "# TIFF to JPEG"
   ]
  },
  {
   "cell_type": "code",
   "execution_count": 5,
   "id": "e175ddf7-b433-4608-ad96-ec8e03ba67a2",
   "metadata": {},
   "outputs": [],
   "source": [
    "import glob\n",
    "from PIL import Image"
   ]
  },
  {
   "cell_type": "code",
   "execution_count": 31,
   "id": "613e804c-f76c-48be-8e8e-1aece2ebe03b",
   "metadata": {},
   "outputs": [
    {
     "name": "stdout",
     "output_type": "stream",
     "text": [
      "Processing image  ./Images/PGR_Roseau2021\\S1p01T4R1.tif\n",
      "Processing image  ./Images/PGR_Roseau2021\\S1p02T1R1.tif\n",
      "Processing image  ./Images/PGR_Roseau2021\\S1p03T3R1.tif\n",
      "Processing image  ./Images/PGR_Roseau2021\\S1p04T5R1.tif\n",
      "Processing image  ./Images/PGR_Roseau2021\\S1p05T2R1.tif\n",
      "Processing image  ./Images/PGR_Roseau2021\\S1p06T1R2.tif\n",
      "Processing image  ./Images/PGR_Roseau2021\\S1p07T2R2.tif\n",
      "Processing image  ./Images/PGR_Roseau2021\\S1p08T3R2.tif\n",
      "Processing image  ./Images/PGR_Roseau2021\\S1p09T5R2.tif\n",
      "Processing image  ./Images/PGR_Roseau2021\\S1p10T4R2.tif\n",
      "Processing image  ./Images/PGR_Roseau2021\\S1p11T1R3.tif\n",
      "Processing image  ./Images/PGR_Roseau2021\\S1p12T3R3.tif\n",
      "Processing image  ./Images/PGR_Roseau2021\\S1p13T2R3.tif\n",
      "Processing image  ./Images/PGR_Roseau2021\\S1p14T4R3.tif\n",
      "Processing image  ./Images/PGR_Roseau2021\\S1p15T5R3.tif\n",
      "Processing image  ./Images/PGR_Roseau2021\\S1p16T3R4.tif\n",
      "Processing image  ./Images/PGR_Roseau2021\\S1p17T1R4.tif\n",
      "Processing image  ./Images/PGR_Roseau2021\\S1p18T5R4.tif\n",
      "Processing image  ./Images/PGR_Roseau2021\\S1p19T4R4.tif\n",
      "Processing image  ./Images/PGR_Roseau2021\\S1p20T2R4.tif\n",
      "Processing image  ./Images/PGR_Roseau2021\\S2p01T5R1.tif\n",
      "Processing image  ./Images/PGR_Roseau2021\\S2p02T3R1.tif\n",
      "Processing image  ./Images/PGR_Roseau2021\\S2p03T2R1.tif\n",
      "Processing image  ./Images/PGR_Roseau2021\\S2p04T4R1.tif\n",
      "Processing image  ./Images/PGR_Roseau2021\\S2p05T1R1.tif\n",
      "Processing image  ./Images/PGR_Roseau2021\\S2p06T3R2.tif\n",
      "Processing image  ./Images/PGR_Roseau2021\\S2p07T4R2.tif\n",
      "Processing image  ./Images/PGR_Roseau2021\\S2p08T1R2.tif\n",
      "Processing image  ./Images/PGR_Roseau2021\\S2p09T2R2.tif\n",
      "Processing image  ./Images/PGR_Roseau2021\\S2p10T5R2.tif\n",
      "Processing image  ./Images/PGR_Roseau2021\\S2p11T2R3.tif\n",
      "Processing image  ./Images/PGR_Roseau2021\\S2p12T5R3.tif\n",
      "Processing image  ./Images/PGR_Roseau2021\\S2p13T4R3.tif\n",
      "Processing image  ./Images/PGR_Roseau2021\\S2p14T3R3.tif\n",
      "Processing image  ./Images/PGR_Roseau2021\\S2p15T1R3.tif\n",
      "Processing image  ./Images/PGR_Roseau2021\\S2p16T4R4.tif\n",
      "Processing image  ./Images/PGR_Roseau2021\\S2p17T1R4.tif\n",
      "Processing image  ./Images/PGR_Roseau2021\\S2p18T3R4.tif\n",
      "Processing image  ./Images/PGR_Roseau2021\\S2p19T5R4.tif\n",
      "Processing image  ./Images/PGR_Roseau2021\\S2p20T2R4.tif\n"
     ]
    }
   ],
   "source": [
    "path = r'./Images/PGR_Roseau2021'\n",
    "path_out = r'./Images/PGR_Roseau2021/JPEG'\n",
    "Images = sorted(glob.glob(path + '/*' + \".tif\", recursive=True))\n",
    "s = './Images/PGR_Roseau2021\\\\S1p01T4R1.tif'\n",
    "s.split(\"\\\\\")[0]\n",
    "\n",
    "for img_name in Images:\n",
    "    \n",
    "    print(\"Processing image \", img_name)\n",
    "    img = Image.open(img_name)\n",
    "    im = img.copy()\n",
    "    im.thumbnail(im.size)\n",
    "    outfile = img_name.split(\"\\\\\")[0] + \"\\\\JPEG\\\\\"\n",
    "    outfile = outfile + img_name.split(\"\\\\\")[-1]\n",
    "    outfile = outfile.replace(\".tif\",\".JPEG\")\n",
    "    im.save(outfile, \"JPEG\", quality=100)\n"
   ]
  },
  {
   "cell_type": "code",
   "execution_count": null,
   "id": "5315c9aa-b756-4658-a408-dfcbb9d4f52f",
   "metadata": {},
   "outputs": [],
   "source": []
  },
  {
   "cell_type": "code",
   "execution_count": null,
   "id": "40c9a926-7ab1-42a0-8fab-3e9abd34a58b",
   "metadata": {},
   "outputs": [],
   "source": []
  },
  {
   "cell_type": "code",
   "execution_count": null,
   "id": "c1169a47-118e-47fc-bf4d-efa22aa83a6c",
   "metadata": {},
   "outputs": [],
   "source": []
  },
  {
   "cell_type": "code",
   "execution_count": null,
   "id": "e3565272-7ad1-4c85-9de4-2c50950d40f2",
   "metadata": {},
   "outputs": [],
   "source": []
  }
 ],
 "metadata": {
  "kernelspec": {
   "display_name": "Python 3",
   "language": "python",
   "name": "python3"
  },
  "language_info": {
   "codemirror_mode": {
    "name": "ipython",
    "version": 3
   },
   "file_extension": ".py",
   "mimetype": "text/x-python",
   "name": "python",
   "nbconvert_exporter": "python",
   "pygments_lexer": "ipython3",
   "version": "3.8.8"
  }
 },
 "nbformat": 4,
 "nbformat_minor": 5
}
